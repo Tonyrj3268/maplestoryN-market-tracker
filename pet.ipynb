{
 "cells": [
  {
   "cell_type": "code",
   "execution_count": 2,
   "metadata": {},
   "outputs": [],
   "source": [
    "import time\n",
    "import cloudscraper\n",
    "import requests\n",
    "import os\n",
    "from decimal import Decimal\n",
    "\n",
    "WEI_PER_ETHER = Decimal(\"1000000000000000000\")  # 1 Ether = 10^18 Wei\n",
    "\n",
    "\n",
    "def fetch_all_pets():\n",
    "    url = \"https://msu.io/marketplace/api/marketplace/explore/items\"\n",
    "    fetch_amount = 10\n",
    "    payload = {\n",
    "        \"filter\": {\n",
    "            \"categoryNo\": 1000400000,\n",
    "            \"price\": {\"min\": 0, \"max\": 500},\n",
    "            \"level\": {\"min\": 0, \"max\": 250},\n",
    "            \"starforce\": {\"min\": 0, \"max\": 25},\n",
    "            \"potential\": {\"min\": 0, \"max\": 4},\n",
    "            \"bonusPotential\": {\"min\": 0, \"max\": 4},\n",
    "        },\n",
    "        \"sorting\": \"ExploreSorting_RECENTLY_LISTED\",\n",
    "        \"paginationParam\": {\"pageNo\": 1, \"pageSize\": fetch_amount},\n",
    "    }\n",
    "\n",
    "    scraper = cloudscraper.create_scraper()\n",
    "    response = scraper.post(url, json=payload)\n",
    "    response.raise_for_status()\n",
    "\n",
    "    return response.json()[\"items\"]\n",
    "\n",
    "\n",
    "def get_singal_pet_skill_info(tokenId: int):\n",
    "    url = f\"https://msu.io/marketplace/api/marketplace/items/{tokenId}\"\n",
    "\n",
    "    scraper = cloudscraper.create_scraper()\n",
    "    response = scraper.get(url)\n",
    "    response.raise_for_status()\n",
    "    pet_skills = response.json()[\"item\"][\"pet\"][\"petSkills\"]\n",
    "    return pet_skills\n",
    "\n",
    "def line_notify(message: str):\n",
    "    url = 'https://notify-api.line.me/api/notify'\n",
    "    token = os.getenv('line_notify_token')\n",
    "    headers = {\n",
    "        'Authorization': 'Bearer ' + token\n",
    "    }\n",
    "    data = {\n",
    "        'message':message\n",
    "    }\n",
    "    data = requests.post(url, headers=headers, data=data)\n"
   ]
  },
  {
   "cell_type": "code",
   "execution_count": 3,
   "metadata": {},
   "outputs": [
    {
     "name": "stdout",
     "output_type": "stream",
     "text": [
      "{'NESO Magnet', 'Item Pouch', 'Auto MP Potion Pouch', 'Auto HP Potion Pouch'}\n",
      "{'Item Pouch', 'Auto MP Potion Pouch', 'Expanded Auto Move', 'Auto Move', 'NESO Magnet', 'Auto HP Potion Pouch'}\n",
      "\n",
      "發現高價值寵物\n",
      "價格: $85\n",
      "技能:\n",
      "Expanded Auto Move\n",
      "Auto Move\n",
      "https://msu.io/marketplace/nft/8191675398995188881079838358018\n",
      "{'Item Pouch', 'Auto MP Potion Pouch', 'Expanded Auto Move', 'NESO Magnet', 'Auto HP Potion Pouch'}\n",
      "{'NESO Magnet', 'Item Pouch', 'Auto MP Potion Pouch', 'Auto HP Potion Pouch'}\n",
      "{'Item Pouch', 'Auto MP Potion Pouch', 'Expanded Auto Move', 'NESO Magnet', 'Auto HP Potion Pouch'}\n",
      "{'NESO Magnet', 'Item Pouch', 'Auto MP Potion Pouch', 'Auto HP Potion Pouch'}\n",
      "{'NESO Magnet', 'Item Pouch', 'Auto MP Potion Pouch', 'Auto HP Potion Pouch'}\n",
      "{'Item Pouch', 'Auto MP Potion Pouch', 'Expanded Auto Move', 'NESO Magnet', 'Fatten Up', 'Auto HP Potion Pouch'}\n",
      "{'Item Pouch', 'Auto MP Potion Pouch', 'Auto Move', 'NESO Magnet', 'Auto HP Potion Pouch'}\n",
      "{'Item Pouch', 'Auto MP Potion Pouch', 'Expanded Auto Move', 'NESO Magnet', 'Auto HP Potion Pouch'}\n"
     ]
    },
    {
     "ename": "KeyboardInterrupt",
     "evalue": "",
     "output_type": "error",
     "traceback": [
      "\u001b[1;31m---------------------------------------------------------------------------\u001b[0m",
      "\u001b[1;31mKeyboardInterrupt\u001b[0m                         Traceback (most recent call last)",
      "Cell \u001b[1;32mIn[3], line 28\u001b[0m\n\u001b[0;32m     23\u001b[0m                 notified_list\u001b[38;5;241m.\u001b[39mappend(tokenId)\n\u001b[0;32m     25\u001b[0m     time\u001b[38;5;241m.\u001b[39msleep(\u001b[38;5;241m0.2\u001b[39m)\n\u001b[1;32m---> 28\u001b[0m \u001b[43mtime\u001b[49m\u001b[38;5;241;43m.\u001b[39;49m\u001b[43msleep\u001b[49m\u001b[43m(\u001b[49m\u001b[38;5;241;43m15\u001b[39;49m\u001b[43m)\u001b[49m\n",
      "\u001b[1;31mKeyboardInterrupt\u001b[0m: "
     ]
    }
   ],
   "source": [
    "# 已通知列表ID\n",
    "notified_list = []\n",
    "\n",
    "while True:\n",
    "    all_pets_list = fetch_all_pets()\n",
    "    for i in all_pets_list:\n",
    "        tokenId = i[\"tokenId\"]\n",
    "        pet_skills = set(get_singal_pet_skill_info(tokenId))\n",
    "        print(pet_skills)\n",
    "        # 篩選條件\n",
    "        filters = [{\"Expanded Auto Move\", \"Auto Move\"}, {\"Auto Buff\"}, {\"Magnet Effect\"}]\n",
    "\n",
    "        # 檢查每組篩選條件是否符合\n",
    "        for filter_set in filters:\n",
    "            # 檢查 filter_set 是否在 pet_skills 中\n",
    "            if filter_set.issubset(pet_skills):\n",
    "                price = int(int(i['salesInfo']['priceWei']) / WEI_PER_ETHER)\n",
    "                formatted_skills = \"\\n\".join(filter_set)\n",
    "                message = f\"\\n發現高價值寵物\\n價格: ${price}\\n技能:\\n{formatted_skills}\\nhttps://msu.io/marketplace/nft/{tokenId}\"\n",
    "                print(message)\n",
    "                if tokenId not in notified_list:\n",
    "                    line_notify(message)\n",
    "                    notified_list.append(tokenId)\n",
    "\n",
    "        time.sleep(0.2)\n",
    "\n",
    "\n",
    "    time.sleep(15)"
   ]
  }
 ],
 "metadata": {
  "kernelspec": {
   "display_name": "Python 3",
   "language": "python",
   "name": "python3"
  },
  "language_info": {
   "codemirror_mode": {
    "name": "ipython",
    "version": 3
   },
   "file_extension": ".py",
   "mimetype": "text/x-python",
   "name": "python",
   "nbconvert_exporter": "python",
   "pygments_lexer": "ipython3",
   "version": "3.13.1"
  }
 },
 "nbformat": 4,
 "nbformat_minor": 2
}
